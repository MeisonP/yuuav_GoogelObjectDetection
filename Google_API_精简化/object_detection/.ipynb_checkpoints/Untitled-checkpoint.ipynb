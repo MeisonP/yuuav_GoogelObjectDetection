{
 "cells": [
  {
   "cell_type": "code",
   "execution_count": 4,
   "metadata": {},
   "outputs": [],
   "source": [
    "import logging\n",
    "import time\n",
    "\n",
    "TM=time.strftime(\"%Y-%m-%d %H-%M-%S\",time.localtime())\n",
    "LOG_FORMAT = \"%(levelname)s -[:%(lineno)d]- %(message)s\"\n",
    "#open(log_nm,'w').close()\n",
    "logging.basicConfig(level=logging.INFO, format=LOG_FORMAT)\n",
    "logging.info('**************************Mason(%s)*******************'%(TM,))\n"
   ]
  },
  {
   "cell_type": "code",
   "execution_count": null,
   "metadata": {},
   "outputs": [],
   "source": []
  },
  {
   "cell_type": "code",
   "execution_count": null,
   "metadata": {},
   "outputs": [],
   "source": []
  }
 ],
 "metadata": {
  "kernelspec": {
   "display_name": "Python 2",
   "language": "python",
   "name": "python2"
  },
  "language_info": {
   "codemirror_mode": {
    "name": "ipython",
    "version": 2
   },
   "file_extension": ".py",
   "mimetype": "text/x-python",
   "name": "python",
   "nbconvert_exporter": "python",
   "pygments_lexer": "ipython2",
   "version": "2.7.15"
  }
 },
 "nbformat": 4,
 "nbformat_minor": 2
}
